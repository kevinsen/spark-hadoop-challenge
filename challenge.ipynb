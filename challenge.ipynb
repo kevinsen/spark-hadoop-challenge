{
 "cells": [
  {
   "cell_type": "markdown",
   "id": "74361bd3",
   "metadata": {},
   "source": [
    "# GRANDATA - Test Técnico Data Engineer\n",
    "\n",
    "## Objetivos del Test\n",
    "\n",
    "1. **Calcular el monto total** de facturación por envíos de SMS\n",
    "2. **Generar dataset** con los 100 usuarios de mayor facturación por SMS (incluyendo hash MD5)\n",
    "3. **Crear histograma** de llamadas por hora del día"
   ]
  },
  {
   "cell_type": "code",
   "execution_count": 1,
   "id": "e64b92eb",
   "metadata": {},
   "outputs": [],
   "source": [
    "from pyspark.sql import SparkSession\n",
    "\n",
    "spark = SparkSession.builder \\\n",
    "    .appName(\"GranData Test\") \\\n",
    "    .config(\"spark.driver.memory\", \"2g\") \\\n",
    "    .config(\"spark.executor.memory\", \"2g\") \\\n",
    "    .getOrCreate()\n",
    "\n",
    "spark.sparkContext._jsc.hadoopConfiguration().set(\n",
    "    \"mapreduce.fileoutputcommitter.marksuccessfuljobs\", \"false\"\n",
    ")"
   ]
  },
  {
   "cell_type": "code",
   "execution_count": 2,
   "id": "7d0c7f9c",
   "metadata": {},
   "outputs": [],
   "source": [
    "from pyspark.sql.functions import *\n"
   ]
  },
  {
   "cell_type": "code",
   "execution_count": 3,
   "id": "0dc282ad",
   "metadata": {},
   "outputs": [],
   "source": [
    "# data file paths\n",
    "events_path = \"work/data/events.csv.gz\"\n",
    "fsms_path = \"work/data/free_sms_destinations.csv.gz\""
   ]
  },
  {
   "cell_type": "code",
   "execution_count": 4,
   "id": "01c40ec0",
   "metadata": {},
   "outputs": [
    {
     "name": "stdout",
     "output_type": "stream",
     "text": [
      "+----+-----+-------+---+--------+------+---------+--------------+\n",
      "|hour|calls|seconds|sms|    date|region|id_source|id_destination|\n",
      "+----+-----+-------+---+--------+------+---------+--------------+\n",
      "|  11|    1|     24|  0|20211001|     5|      BF3|           374|\n",
      "|   1|    1|     51|  0|20211001|     4|      9F5|           374|\n",
      "|  11|    1|      3|  0|20211001|     6|      025|           374|\n",
      "|  10|    1|     36|  0|20211001|     5|      FB6|           D52|\n",
      "|  23|    4|    137|  0|20211001|     8|      4BB|           861|\n",
      "+----+-----+-------+---+--------+------+---------+--------------+\n",
      "only showing top 5 rows\n",
      "\n",
      "root\n",
      " |-- hour: integer (nullable = true)\n",
      " |-- calls: integer (nullable = true)\n",
      " |-- seconds: integer (nullable = true)\n",
      " |-- sms: integer (nullable = true)\n",
      " |-- date: integer (nullable = true)\n",
      " |-- region: integer (nullable = true)\n",
      " |-- id_source: string (nullable = true)\n",
      " |-- id_destination: string (nullable = true)\n",
      "\n"
     ]
    }
   ],
   "source": [
    "events_df = spark.read.csv(events_path, header=True, inferSchema=True)\n",
    "events_df.show(5)\n",
    "events_df.printSchema()\n"
   ]
  },
  {
   "cell_type": "code",
   "execution_count": 5,
   "id": "f0bb0e35",
   "metadata": {},
   "outputs": [
    {
     "name": "stdout",
     "output_type": "stream",
     "text": [
      "originales: 1,000,000\n",
      "limpios: 999,970\n",
      "eliminados: 30\n"
     ]
    }
   ],
   "source": [
    "# limpiar nulos o valores \"NULL\"\n",
    "events_clean_df = events_df.filter(\n",
    "    (col(\"id_source\").isNotNull()) & \n",
    "    (col(\"id_destination\").isNotNull()) &\n",
    "    (col(\"id_source\") != '') & \n",
    "    (col(\"id_destination\") != '') &\n",
    "    (col(\"id_source\") != 'NULL') &\n",
    "    (col(\"id_destination\") != 'NULL')\n",
    ")\n",
    "\n",
    "# verificar el filtrado\n",
    "print(f\"originales: {events_df.count():,}\")\n",
    "print(f\"limpios: {events_clean_df.count():,}\")\n",
    "print(f\"eliminados: {events_df.count() - events_clean_df.count():,}\")"
   ]
  },
  {
   "cell_type": "code",
   "execution_count": 6,
   "id": "a0fd78dd",
   "metadata": {},
   "outputs": [
    {
     "name": "stdout",
     "output_type": "stream",
     "text": [
      "+---+\n",
      "| id|\n",
      "+---+\n",
      "|374|\n",
      "|D52|\n",
      "|861|\n",
      "|5B0|\n",
      "|4CA|\n",
      "|465|\n",
      "|048|\n",
      "|D5B|\n",
      "|FD6|\n",
      "|2D3|\n",
      "+---+\n",
      "only showing top 10 rows\n",
      "\n",
      "root\n",
      " |-- id: string (nullable = true)\n",
      "\n"
     ]
    },
    {
     "data": {
      "text/plain": [
       "200"
      ]
     },
     "execution_count": 6,
     "metadata": {},
     "output_type": "execute_result"
    }
   ],
   "source": [
    "free_destinations_df = spark.read.csv(fsms_path, header=True, inferSchema=True)\n",
    "free_destinations_df.show(10)\n",
    "free_destinations_df.printSchema()\n",
    "free_destinations_df.count()"
   ]
  },
  {
   "cell_type": "code",
   "execution_count": 7,
   "id": "a5f84478",
   "metadata": {},
   "outputs": [
    {
     "name": "stdout",
     "output_type": "stream",
     "text": [
      "originales: 200\n",
      "limpios: 200\n",
      "eliminados: 0\n"
     ]
    }
   ],
   "source": [
    "# limpiar nulos o valores \"NULL\" en free_destinations_df\n",
    "free_destinations_clean_df = free_destinations_df.filter(\n",
    "    (col(\"id\").isNotNull()) & \n",
    "    (col(\"id\") != '') & \n",
    "    (col(\"id\") != 'NULL')\n",
    ")\n",
    "\n",
    "# verificar el filtrado\n",
    "print(f\"originales: {free_destinations_df.count():,}\")\n",
    "print(f\"limpios: {free_destinations_clean_df.count():,}\")\n",
    "print(f\"eliminados: {free_destinations_df.count() - free_destinations_clean_df.count():,}\")"
   ]
  },
  {
   "cell_type": "markdown",
   "id": "bf8c8bd1",
   "metadata": {},
   "source": [
    "### Ejercicio 1\n",
    "##### 1. **Calcular el monto total** que facturará el proveedor del servicio por envíos de sms.\n",
    "\n",
    "Reglas de Facturación SMS\n",
    "- *$0.0* → Destino gratuito\n",
    "- *$1.5* → Regiones 1-5  \n",
    "- *$2.0* → Regiones 6-9"
   ]
  },
  {
   "cell_type": "code",
   "execution_count": 8,
   "id": "ee20cf21",
   "metadata": {},
   "outputs": [
    {
     "name": "stdout",
     "output_type": "stream",
     "text": [
      "+----+-----+-------+---+--------+------+---------+--------------+---+--------+\n",
      "|hour|calls|seconds|sms|    date|region|id_source|id_destination| id|sms_cost|\n",
      "+----+-----+-------+---+--------+------+---------+--------------+---+--------+\n",
      "|  11|    1|     24|  0|20211001|     5|      BF3|           374|374|     0.0|\n",
      "|   1|    1|     51|  0|20211001|     4|      9F5|           374|374|     0.0|\n",
      "|  11|    1|      3|  0|20211001|     6|      025|           374|374|     0.0|\n",
      "|  10|    1|     36|  0|20211001|     5|      FB6|           D52|D52|     0.0|\n",
      "|  23|    4|    137|  0|20211001|     8|      4BB|           861|861|     0.0|\n",
      "|  18|    0|      0|  1|20211001|     4|      90C|           5B0|5B0|     0.0|\n",
      "|  13|    1|    618|  0|20211001|     9|      7AB|           4CA|4CA|     0.0|\n",
      "|  16|    1|    172|  0|20211001|     9|      7AB|           4CA|4CA|     0.0|\n",
      "|   6|    1|    208|  0|20211001|     9|      7AB|           4CA|4CA|     0.0|\n",
      "|   5|    1|     66|  0|20211001|     9|      7AB|           4CA|4CA|     0.0|\n",
      "+----+-----+-------+---+--------+------+---------+--------------+---+--------+\n",
      "only showing top 10 rows\n",
      "\n"
     ]
    }
   ],
   "source": [
    "# agrego columna de costo por sms\n",
    "add_costs_df = events_clean_df.join(\n",
    "    free_destinations_df,\n",
    "    events_clean_df.id_destination == free_destinations_df.id,\n",
    "    how='left')\\\n",
    "        .withColumn('sms_cost',\n",
    "        when(col('id').isNotNull() , 0.0)\n",
    "        .when(col('region').between(1, 5), 1.5)\n",
    "        .when(col('region').between(6, 9), 2.0)\n",
    "        .otherwise(0.0))\n",
    "\n",
    "add_costs_df.show(10)\n"
   ]
  },
  {
   "cell_type": "code",
   "execution_count": 9,
   "id": "fc8a78e1",
   "metadata": {},
   "outputs": [
    {
     "name": "stdout",
     "output_type": "stream",
     "text": [
      "+--------+------+\n",
      "|sms_cost| count|\n",
      "+--------+------+\n",
      "|     0.0| 49082|\n",
      "|     1.5|411507|\n",
      "|     2.0|539381|\n",
      "+--------+------+\n",
      "\n"
     ]
    }
   ],
   "source": [
    "add_costs_df.groupBy(\"sms_cost\") \\\n",
    "    .count() \\\n",
    "    .orderBy(\"sms_cost\") \\\n",
    "    .show()"
   ]
  },
  {
   "cell_type": "code",
   "execution_count": 10,
   "id": "e1f44c8a",
   "metadata": {},
   "outputs": [
    {
     "name": "stdout",
     "output_type": "stream",
     "text": [
      "RESPUESTA EJERCICIO 1\n",
      "Monto toal a facturar: $1,696,022.50\n",
      "Facturacion por tipo de costo:\n",
      "+--------+------------+--------+\n",
      "|sms_cost|total_billed|sms_sent|\n",
      "+--------+------------+--------+\n",
      "|     0.0|         0.0|   49082|\n",
      "|     1.5|    617260.5|  411507|\n",
      "|     2.0|   1078762.0|  539381|\n",
      "+--------+------------+--------+\n",
      "\n"
     ]
    }
   ],
   "source": [
    "total_billing_amount = add_costs_df.agg(sum(\"sms_cost\")).collect()[0][0]\n",
    "\n",
    "print(f\"RESPUESTA EJERCICIO 1\")\n",
    "print(f\"Monto toal a facturar: ${total_billing_amount:,.2f}\")\n",
    "\n",
    "print(\"Facturacion por tipo de costo:\")\n",
    "add_costs_df.groupBy(\"sms_cost\").agg(\n",
    "    sum(\"sms_cost\").alias(\"total_billed\"),\n",
    "    count(\"*\").alias(\"sms_sent\")\n",
    ").orderBy(\"sms_cost\").show()"
   ]
  },
  {
   "cell_type": "markdown",
   "id": "3d5b9e03",
   "metadata": {},
   "source": [
    "##### 2. **Generar un dataset** que contenga los ID de los 100 usuarios con mayor facturación por envío de sms y el monto total a facturar a cada uno. Además del ID, incluir el ID hasheado mediante el algoritmo MD5. Escribir el dataset en formato parquet con compresión gzip."
   ]
  },
  {
   "cell_type": "code",
   "execution_count": 11,
   "id": "2010eb09",
   "metadata": {},
   "outputs": [],
   "source": [
    "# funcion udf para aplicar md5 al campo solicitado\n",
    "def md5_hash(value):\n",
    "    import hashlib\n",
    "    return hashlib.md5(value.encode()).hexdigest()"
   ]
  },
  {
   "cell_type": "code",
   "execution_count": 12,
   "id": "ba802cb1",
   "metadata": {},
   "outputs": [],
   "source": [
    "# declaro udf\n",
    "md5_udf = udf(md5_hash, StringType())"
   ]
  },
  {
   "cell_type": "code",
   "execution_count": 13,
   "id": "7ce8cfba",
   "metadata": {},
   "outputs": [
    {
     "name": "stdout",
     "output_type": "stream",
     "text": [
      "+---------+-------------+--------------+\n",
      "|id_source|total_billing|total_sms_sent|\n",
      "+---------+-------------+--------------+\n",
      "|      20E|        420.0|           238|\n",
      "|      675|        344.0|           205|\n",
      "|      829|        402.5|           226|\n",
      "|      1DB|        415.5|           236|\n",
      "|      F1B|        344.5|           214|\n",
      "|      B05|        397.5|           234|\n",
      "|      8FC|        384.0|           226|\n",
      "|      1EE|        421.0|           252|\n",
      "|      9AE|        386.0|           229|\n",
      "|      A23|        367.5|           211|\n",
      "+---------+-------------+--------------+\n",
      "only showing top 10 rows\n",
      "\n"
     ]
    }
   ],
   "source": [
    "# df agrupado por id_source y agg.sum por sms_cost\n",
    "df_user_billing = add_costs_df.groupBy(\"id_source\").agg(\n",
    "    sum(\"sms_cost\").alias(\"total_billing\"),\n",
    "    count(\"*\").alias(\"total_sms_sent\")\n",
    ")\n",
    "\n",
    "df_user_billing.show(10)"
   ]
  },
  {
   "cell_type": "code",
   "execution_count": 14,
   "id": "0cf143cc",
   "metadata": {},
   "outputs": [
    {
     "name": "stdout",
     "output_type": "stream",
     "text": [
      "+---------+--------------------+-------------+\n",
      "|id_source|       md5_id_source|total_billing|\n",
      "+---------+--------------------+-------------+\n",
      "|      4D3|911914c7729eedbdf...|      18573.0|\n",
      "|      76D|bd180b7811395cbce...|      13508.0|\n",
      "|      07E|14a0660ae2f5d1868...|       4070.0|\n",
      "|      541|16c222aa19898e505...|       1707.0|\n",
      "|      B86|bc97b32ee2abb9c18...|       1292.5|\n",
      "|      3AE|6a57072949dbc409c...|       1026.0|\n",
      "|      1BD|f5a45e33602ea62f9...|       1023.5|\n",
      "|      3E0|e9d076deb3451cc49...|       1015.5|\n",
      "|      D29|1b2e80021b5fc82bf...|        892.0|\n",
      "|      E6F|159e1f3d6ff0e7c3c...|        714.5|\n",
      "+---------+--------------------+-------------+\n",
      "only showing top 10 rows\n",
      "\n"
     ]
    }
   ],
   "source": [
    "# obtener el top 100 de usuarios con md5 en id_source\n",
    "df_user_billing_top_100 = df_user_billing \\\n",
    "    .withColumn(\"md5_id_source\", md5_udf(col(\"id_source\")))\\\n",
    "    .orderBy(desc(\"total_billing\")).limit(100)\n",
    "\n",
    "df_user_billing_top_100.select(\"id_source\", \"md5_id_source\", \"total_billing\").show(10)"
   ]
  },
  {
   "cell_type": "code",
   "execution_count": 40,
   "id": "25e8f4fc",
   "metadata": {},
   "outputs": [],
   "source": [
    "# escribir en parquet.gzip \n",
    "df_user_billing.write\\\n",
    "    .mode(\"overwrite\")\\\n",
    "    .option(\"compression\", \"gzip\")\\\n",
    "    .parquet(\"work/output/top_100_users/\")"
   ]
  },
  {
   "cell_type": "markdown",
   "id": "956dacdf",
   "metadata": {},
   "source": [
    "#### Resultado punto 2 en el folder \"output/\""
   ]
  },
  {
   "cell_type": "markdown",
   "id": "afe64ac4",
   "metadata": {},
   "source": [
    "##### 3. **Graficar un histograma** de cantidad de llamadas que se realizan por hora del día."
   ]
  },
  {
   "cell_type": "code",
   "execution_count": 16,
   "id": "b8ead6f8",
   "metadata": {},
   "outputs": [],
   "source": [
    "import matplotlib.pyplot as plt"
   ]
  },
  {
   "cell_type": "code",
   "execution_count": 17,
   "id": "710d59ad",
   "metadata": {},
   "outputs": [
    {
     "name": "stdout",
     "output_type": "stream",
     "text": [
      "root\n",
      " |-- hour: integer (nullable = true)\n",
      " |-- calls: integer (nullable = true)\n",
      " |-- seconds: integer (nullable = true)\n",
      " |-- sms: integer (nullable = true)\n",
      " |-- date: integer (nullable = true)\n",
      " |-- region: integer (nullable = true)\n",
      " |-- id_source: string (nullable = true)\n",
      " |-- id_destination: string (nullable = true)\n",
      "\n"
     ]
    }
   ],
   "source": [
    "events_df.printSchema()"
   ]
  },
  {
   "cell_type": "code",
   "execution_count": 18,
   "id": "3d273f01",
   "metadata": {},
   "outputs": [
    {
     "name": "stdout",
     "output_type": "stream",
     "text": [
      "+----+-----+-------+---+--------+------+---------+--------------+\n",
      "|hour|calls|seconds|sms|    date|region|id_source|id_destination|\n",
      "+----+-----+-------+---+--------+------+---------+--------------+\n",
      "|  11|    1|     24|  0|20211001|     5|      BF3|           374|\n",
      "|   1|    1|     51|  0|20211001|     4|      9F5|           374|\n",
      "+----+-----+-------+---+--------+------+---------+--------------+\n",
      "only showing top 2 rows\n",
      "\n"
     ]
    }
   ],
   "source": [
    "events_df.show(2)"
   ]
  },
  {
   "cell_type": "code",
   "execution_count": 34,
   "id": "385168a4",
   "metadata": {},
   "outputs": [
    {
     "name": "stdout",
     "output_type": "stream",
     "text": [
      "+--------+----+-----------+\n",
      "|    date|hour|total_calls|\n",
      "+--------+----+-----------+\n",
      "|20211001|   0|       6440|\n",
      "|20211001|   1|       3222|\n",
      "|20211001|   2|       1853|\n",
      "|20211001|   3|       1514|\n",
      "|20211001|   4|       1955|\n",
      "+--------+----+-----------+\n",
      "only showing top 5 rows\n",
      "\n"
     ]
    }
   ],
   "source": [
    "# df con agg de llamadas por hora y fecha\n",
    "calls_by_hour = events_clean_df.groupBy(\"date\",\"hour\").agg(sum(\"calls\").alias(\"total_calls\")).orderBy(\"date\",\"hour\")\n",
    "calls_by_hour.show(5)"
   ]
  },
  {
   "cell_type": "code",
   "execution_count": 41,
   "id": "2039464c",
   "metadata": {},
   "outputs": [
    {
     "data": {
      "text/plain": [
       "([<matplotlib.axis.XTick at 0xffff6910f8d0>,\n",
       "  <matplotlib.axis.XTick at 0xffff6910cf10>,\n",
       "  <matplotlib.axis.XTick at 0xffff690f8e90>,\n",
       "  <matplotlib.axis.XTick at 0xffff68f812d0>,\n",
       "  <matplotlib.axis.XTick at 0xffff68f83010>,\n",
       "  <matplotlib.axis.XTick at 0xffff68f85210>,\n",
       "  <matplotlib.axis.XTick at 0xffff68f87310>,\n",
       "  <matplotlib.axis.XTick at 0xffff68f89510>,\n",
       "  <matplotlib.axis.XTick at 0xffff68f8b690>,\n",
       "  <matplotlib.axis.XTick at 0xffff68f88cd0>,\n",
       "  <matplotlib.axis.XTick at 0xffff68f96090>,\n",
       "  <matplotlib.axis.XTick at 0xffff68fa0290>,\n",
       "  <matplotlib.axis.XTick at 0xffff68fa24d0>,\n",
       "  <matplotlib.axis.XTick at 0xffff68fa3050>,\n",
       "  <matplotlib.axis.XTick at 0xffff6921b6d0>,\n",
       "  <matplotlib.axis.XTick at 0xffff68f37d50>,\n",
       "  <matplotlib.axis.XTick at 0xffff68fb00d0>,\n",
       "  <matplotlib.axis.XTick at 0xffff68fb21d0>,\n",
       "  <matplotlib.axis.XTick at 0xffff68fb4310>,\n",
       "  <matplotlib.axis.XTick at 0xffff68fb6410>,\n",
       "  <matplotlib.axis.XTick at 0xffff68f956d0>,\n",
       "  <matplotlib.axis.XTick at 0xffff68fbc9d0>,\n",
       "  <matplotlib.axis.XTick at 0xffff68fbea10>,\n",
       "  <matplotlib.axis.XTick at 0xffff68fc4c10>],\n",
       " [Text(0, 0, '0'),\n",
       "  Text(1, 0, '1'),\n",
       "  Text(2, 0, '2'),\n",
       "  Text(3, 0, '3'),\n",
       "  Text(4, 0, '4'),\n",
       "  Text(5, 0, '5'),\n",
       "  Text(6, 0, '6'),\n",
       "  Text(7, 0, '7'),\n",
       "  Text(8, 0, '8'),\n",
       "  Text(9, 0, '9'),\n",
       "  Text(10, 0, '10'),\n",
       "  Text(11, 0, '11'),\n",
       "  Text(12, 0, '12'),\n",
       "  Text(13, 0, '13'),\n",
       "  Text(14, 0, '14'),\n",
       "  Text(15, 0, '15'),\n",
       "  Text(16, 0, '16'),\n",
       "  Text(17, 0, '17'),\n",
       "  Text(18, 0, '18'),\n",
       "  Text(19, 0, '19'),\n",
       "  Text(20, 0, '20'),\n",
       "  Text(21, 0, '21'),\n",
       "  Text(22, 0, '22'),\n",
       "  Text(23, 0, '23')])"
      ]
     },
     "execution_count": 41,
     "metadata": {},
     "output_type": "execute_result"
    },
    {
     "data": {
      "image/png": "[encoded data removed]",
      "text/plain": [
       "<Figure size 1200x600 with 1 Axes>"
      ]
     },
     "metadata": {},
     "output_type": "display_data"
    }
   ],
   "source": [
    "# hago el plot\n",
    "calls_by_hour_pd = calls_by_hour.toPandas()\n",
    "\n",
    "plt.figure(figsize=(12,6))\n",
    "plt.bar(calls_by_hour_pd[\"hour\"], calls_by_hour_pd[\"total_calls\"])\n",
    "plt.title(\"Distribution of Calls by Hour of Day\")\n",
    "plt.xlabel(\"Hour of Day\")\n",
    "plt.ylabel(\"Total Number of Calls\")\n",
    "plt.grid(True, alpha=0.3)\n",
    "plt.xticks(range(0,24))\n"
   ]
  },
  {
   "cell_type": "code",
   "execution_count": 42,
   "id": "2d6a182a",
   "metadata": {},
   "outputs": [],
   "source": [
    "plt.savefig('work/output/calls_histogram.png')\n",
    "plt.close()"
   ]
  }
 ],
 "metadata": {
  "kernelspec": {
   "display_name": "Python 3 (ipykernel)",
   "language": "python",
   "name": "python3"
  },
  "language_info": {
   "codemirror_mode": {
    "name": "ipython",
    "version": 3
   },
   "file_extension": ".py",
   "mimetype": "text/x-python",
   "name": "python",
   "nbconvert_exporter": "python",
   "pygments_lexer": "ipython3",
   "version": "3.11.6"
  }
 },
 "nbformat": 4,
 "nbformat_minor": 5
}
